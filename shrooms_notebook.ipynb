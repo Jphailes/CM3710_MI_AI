{
 "cells": [
  {
   "cell_type": "markdown",
   "metadata": {},
   "source": [
    "# Introduction & Preprocessing:\n",
    "Using python 3.9 on anaconda env\n",
    "\n",
    "Using mushroom data from :\n",
    "https://archive.ics.uci.edu/ml/datasets/Mushroom\n",
    "\n",
    "This data set includes descriptions of hypothetical samples corresponding to 23 species of gilled mushrooms in the\n",
    "Agaricus and Lepiota Family (pp. 500-525). Each species is identified as definitely edible, definitely poisonous, or\n",
    "of unknown edibility and not recommended. This latter class was combined with the poisonous one. The Guide clearly\n",
    "states that there is no simple rule for determining the edibility of a mushroom; no rule like ``leaflets three,\n",
    "let it be'' for Poisonous Oak and Ivy.\n",
    "\n",
    "Attribute Information:\n",
    "\n",
    "1. cap-shape: bell=b,conical=c,convex=x,flat=f, knobbed=k,sunken=s\n",
    "2. cap-surface: fibrous=f,grooves=g,scaly=y,smooth=s\n",
    "3. cap-color: brown=n,buff=b,cinnamon=c,gray=g,green=r, pink=p,purple=u,red=e,white=w,yellow=y\n",
    "4. bruises?: bruises=t,no=f\n",
    "5. odor: almond=a,anise=l,creosote=c,fishy=y,foul=f, musty=m,none=n,pungent=p,spicy=s\n",
    "6. gill-attachment: attached=a,descending=d,free=f,notched=n\n",
    "7. gill-spacing: close=c,crowded=w,distant=d\n",
    "8. gill-size: broad=b,narrow=n\n",
    "9. gill-color: black=k,brown=n,buff=b,chocolate=h,gray=g, green=r,orange=o,pink=p,purple=u,red=e, white=w,yellow=y\n",
    "10. stalk-shape: enlarging=e,tapering=t\n",
    "11. stalk-root: bulbous=b,club=c,cup=u,equal=e, rhizomorphs=z,rooted=r,missing=?   <<<<< ## note missing values here ##\n",
    "12. stalk-surface-above-ring: fibrous=f,scaly=y,silky=k,smooth=s\n",
    "13. stalk-surface-below-ring: fibrous=f,scaly=y,silky=k,smooth=s\n",
    "14. stalk-color-above-ring: brown=n,buff=b,cinnamon=c,gray=g,orange=o, pink=p,red=e,white=w,yellow=y\n",
    "15. stalk-color-below-ring: brown=n,buff=b,cinnamon=c,gray=g,orange=o, pink=p,red=e,white=w,yellow=y\n",
    "16. veil-type: partial=p,universal=u\n",
    "17. veil-color: brown=n,orange=o,white=w,yellow=y\n",
    "18. ring-number: none=n,one=o,two=t\n",
    "19. ring-type: cobwebby=c,evanescent=e,flaring=f,large=l, none=n,pendant=p,sheathing=s,zone=z\n",
    "20. spore-print-color: black=k,brown=n,buff=b,chocolate=h,green=r, orange=o,purple=u,white=w,yellow=y\n",
    "21. population: abundant=a,clustered=c,numerous=n, scattered=s,several=v,solitary=y\n",
    "22. habitat: grasses=g,leaves=l,meadows=m,paths=p, urban=u,waste=w,woods=d\n",
    "\n"
   ]
  },
  {
   "cell_type": "code",
   "execution_count": 144,
   "metadata": {
    "collapsed": false,
    "jupyter": {
     "outputs_hidden": false
    }
   },
   "outputs": [],
   "source": [
    "# Required imports for both algorithms\n",
    "import matplotlib.pyplot as plt\n",
    "import pandas as pd\n",
    "import numpy as np\n",
    "import sklearn.metrics\n",
    "from sklearn.neighbors import KNeighborsClassifier\n",
    "from sklearn.model_selection import train_test_split, cross_val_score, StratifiedKFold,  cross_validate\n",
    "import plotly.express as px\n",
    "from sklearn import tree\n",
    "from sklearn.metrics import accuracy_score, f1_score, get_scorer_names, get_scorer, recall_score, precision_score, confusion_matrix\n",
    "# import matplotlib_inline\n",
    "# from matplotlib import figure\n",
    "from sklearn.feature_selection import SelectFromModel\n"
   ]
  },
  {
   "cell_type": "markdown",
   "metadata": {},
   "source": [
    "The Mushroom dataset is not labelled so before displaying it. I will:\n",
    " - Load the dataset\n",
    " - Create the predicted class from the first column\n",
    " - Drop attribute \"11. stalk-root\" as it contains missing values which I would not want to randomise in anyway as it could cause undesirable incorrect classification.\n",
    " - Create labels\n",
    " -"
   ]
  },
  {
   "cell_type": "code",
   "execution_count": 145,
   "metadata": {
    "collapsed": false,
    "jupyter": {
     "outputs_hidden": false
    }
   },
   "outputs": [],
   "source": [
    "# load the mushroom data. Change location for mushrooms to where you saved the file.\n",
    "mushrooms = r'C:\\Users\\jphai\\PycharmProjects\\Mushroom_Assessment\\agaricus-lepiota.data'\n",
    "\n",
    "shrooms = pd.read_csv(mushrooms, header=None)\n",
    "\n",
    "# split the data set between predicted class and attributes.\n",
    "# the first colum in the dataset is the class, which will e(edible) or (p)poisonous\n",
    "predicted_class = shrooms[0]\n",
    "shrooms = shrooms.drop([0], axis=1)\n",
    "\n",
    "# dropped stalk_root here due to the missing values.\n",
    "shrooms = shrooms.drop([11], axis=1)\n",
    "\n",
    "# create the column labels as the index makes interpretation harder.\n",
    "col_labels = ['cap-shape',\n",
    "              'cap-surface',\n",
    "              'cap-color',\n",
    "              'bruises',\n",
    "              'odor',\n",
    "              'gill-attachment',\n",
    "              'gill-spacing',\n",
    "              'gill-size',\n",
    "              'gill-color',\n",
    "              'stalk-shape',\n",
    "              # 'stalk-root',     # removed due to missing values\n",
    "              'stalk-surface-above-ring',\n",
    "              'stalk-surface-below-ring',\n",
    "              'stalk-color-above-ring',\n",
    "              'stalk-color-below-ring',\n",
    "              'veil-type',\n",
    "              'veil-color',\n",
    "              'ring-number',\n",
    "              'ring-type',\n",
    "              'spore-print-color',\n",
    "              'population',\n",
    "              'habitat'\n",
    "              ]"
   ]
  },
  {
   "cell_type": "markdown",
   "metadata": {},
   "source": [
    "Now we can add the labels and have a look at the data. I am taking a copy here incase i want to get back to the indexed version."
   ]
  },
  {
   "cell_type": "code",
   "execution_count": 146,
   "metadata": {
    "collapsed": false,
    "jupyter": {
     "outputs_hidden": false
    }
   },
   "outputs": [
    {
     "name": "stdout",
     "output_type": "stream",
     "text": [
      "  cap-shape cap-surface cap-color bruises odor gill-attachment gill-spacing  \\\n",
      "0         x           s         n       t    p               f            c   \n",
      "1         x           s         y       t    a               f            c   \n",
      "2         b           s         w       t    l               f            c   \n",
      "3         x           y         w       t    p               f            c   \n",
      "4         x           s         g       f    n               f            w   \n",
      "\n",
      "  gill-size gill-color stalk-shape  ... stalk-surface-below-ring  \\\n",
      "0         n          k           e  ...                        s   \n",
      "1         b          k           e  ...                        s   \n",
      "2         b          n           e  ...                        s   \n",
      "3         n          n           e  ...                        s   \n",
      "4         b          k           t  ...                        s   \n",
      "\n",
      "  stalk-color-above-ring stalk-color-below-ring veil-type veil-color  \\\n",
      "0                      w                      w         p          w   \n",
      "1                      w                      w         p          w   \n",
      "2                      w                      w         p          w   \n",
      "3                      w                      w         p          w   \n",
      "4                      w                      w         p          w   \n",
      "\n",
      "  ring-number ring-type spore-print-color population habitat  \n",
      "0           o         p                 k          s       u  \n",
      "1           o         p                 n          n       g  \n",
      "2           o         p                 n          n       m  \n",
      "3           o         p                 k          s       u  \n",
      "4           o         e                 n          a       g  \n",
      "\n",
      "[5 rows x 21 columns]\n"
     ]
    }
   ],
   "source": [
    "labelled_shrooms = shrooms.copy()\n",
    "labelled_shrooms.columns = col_labels\n",
    "\n",
    "print(labelled_shrooms.head(5))"
   ]
  },
  {
   "cell_type": "markdown",
   "metadata": {},
   "source": [
    "And lets check the predicted class, which is either edible (e) or poisonous (p)"
   ]
  },
  {
   "cell_type": "code",
   "execution_count": 147,
   "metadata": {
    "collapsed": false,
    "jupyter": {
     "outputs_hidden": false
    }
   },
   "outputs": [
    {
     "name": "stdout",
     "output_type": "stream",
     "text": [
      "0    p\n",
      "1    e\n",
      "2    e\n",
      "3    p\n",
      "4    e\n",
      "Name: 0, dtype: object\n"
     ]
    }
   ],
   "source": [
    "print(predicted_class.head(5))"
   ]
  },
  {
   "cell_type": "markdown",
   "metadata": {},
   "source": [
    "On checking the data we can see that is all categorical with a lookup required to understand the meaning of the value(see attribute information above). IE cap-colour = n, represents the colour brown.\n",
    "The data is not ordinal.\n",
    "\n",
    "So in order to be able to work with the data we will need to one hot encode it. This will create a much wider dataset, with the values of each attribute being suffixed to the column name and a 1 or 0 value is left in that column to indicate if the observation has that characteristic.\n",
    "\n",
    "All the data is now binary values so there is no need for any further processing such as scaling or normalising."
   ]
  },
  {
   "cell_type": "code",
   "execution_count": 148,
   "metadata": {
    "collapsed": false,
    "jupyter": {
     "outputs_hidden": false
    }
   },
   "outputs": [
    {
     "name": "stdout",
     "output_type": "stream",
     "text": [
      "   cap-shape_b  cap-shape_c  cap-shape_f  cap-shape_k  cap-shape_s  \\\n",
      "0            0            0            0            0            0   \n",
      "1            0            0            0            0            0   \n",
      "2            1            0            0            0            0   \n",
      "3            0            0            0            0            0   \n",
      "4            0            0            0            0            0   \n",
      "\n",
      "   cap-shape_x  cap-surface_f  cap-surface_g  cap-surface_s  cap-surface_y  \\\n",
      "0            1              0              0              1              0   \n",
      "1            1              0              0              1              0   \n",
      "2            0              0              0              1              0   \n",
      "3            1              0              0              0              1   \n",
      "4            1              0              0              1              0   \n",
      "\n",
      "   ...  population_s  population_v  population_y  habitat_d  habitat_g  \\\n",
      "0  ...             1             0             0          0          0   \n",
      "1  ...             0             0             0          0          1   \n",
      "2  ...             0             0             0          0          0   \n",
      "3  ...             1             0             0          0          0   \n",
      "4  ...             0             0             0          0          1   \n",
      "\n",
      "   habitat_l  habitat_m  habitat_p  habitat_u  habitat_w  \n",
      "0          0          0          0          1          0  \n",
      "1          0          0          0          0          0  \n",
      "2          0          1          0          0          0  \n",
      "3          0          0          0          1          0  \n",
      "4          0          0          0          0          0  \n",
      "\n",
      "[5 rows x 112 columns]\n"
     ]
    }
   ],
   "source": [
    "# One hot encode dem shrooms as all my data points are categorical.\n",
    "one_hot_shrooms = pd.get_dummies(labelled_shrooms)\n",
    "\n",
    "# as my data is now all binary values, then there is not further preprocessing required.\n",
    "# IE there is no continuous data so no need to scale or normalise, etc.\n",
    "print(one_hot_shrooms.head(5))"
   ]
  },
  {
   "cell_type": "markdown",
   "metadata": {},
   "source": [
    "Maybe not actually required but i will also convert the data to numpy arrays to aid performance.\n",
    "\n",
    "We are now ready to look at our first algorithm."
   ]
  },
  {
   "cell_type": "code",
   "execution_count": 149,
   "metadata": {
    "collapsed": false,
    "jupyter": {
     "outputs_hidden": false
    }
   },
   "outputs": [],
   "source": [
    "# convert to numpy array to improve performance\n",
    "x = one_hot_shrooms.to_numpy()\n",
    "y = predicted_class.to_numpy()"
   ]
  },
  {
   "cell_type": "markdown",
   "metadata": {},
   "source": [
    "# Section 2:   Compare two different binary classification algorithms\n",
    "\n",
    "## K Nearest Neighbours (KNN) Algorithm\n",
    "\n",
    "First lets try a KNN algorithm. KNN is a lazy algorithm which means it does not need any training points for model generation.\n",
    "KNN could be a good choice of classification algorithm here on the assumption/basis that poisonous mushrooms will share similar characteristics.\n",
    "This algorithm will classify a mushroom to be poisonous or edible based on its nearest neighbours. The number of nearest neighbours will vote to decide the classification. Its therefore normally preferable to go with an odd number to prevent draws.\n",
    "We will try different values of K and different weightings to see how these impact the model but will initially use a value of 5."
   ]
  },
  {
   "cell_type": "code",
   "execution_count": 150,
   "metadata": {
    "collapsed": false,
    "jupyter": {
     "outputs_hidden": false
    }
   },
   "outputs": [],
   "source": [
    "# Create a KNeighborsClassifier object and set number of neighbours to 5 initially.\n",
    "knn_model5 = KNeighborsClassifier(n_neighbors=5, weights='distance') # try distance and uniform"
   ]
  },
  {
   "cell_type": "markdown",
   "metadata": {},
   "source": [
    "Rather that manually creating a Train/Test split I will use a stratified K fold which means the data is split between train and test 5 times."
   ]
  },
  {
   "cell_type": "code",
   "execution_count": 151,
   "metadata": {
    "collapsed": false,
    "jupyter": {
     "outputs_hidden": false
    }
   },
   "outputs": [
    {
     "name": "stdout",
     "output_type": "stream",
     "text": [
      "StratifiedKFold(n_splits=5, random_state=None, shuffle=False)\n"
     ]
    }
   ],
   "source": [
    "skf = StratifiedKFold(n_splits=5) # random state not required as i am not shuffling.\n",
    "skf.get_n_splits(x, y)\n",
    "print(skf)"
   ]
  },
  {
   "cell_type": "markdown",
   "metadata": {},
   "source": [
    "We can view how each fold is split between train and test....."
   ]
  },
  {
   "cell_type": "code",
   "execution_count": 152,
   "metadata": {
    "collapsed": false,
    "jupyter": {
     "outputs_hidden": false
    }
   },
   "outputs": [
    {
     "name": "stdout",
     "output_type": "stream",
     "text": [
      "Fold 0:\n",
      "  Train: index=[ 936  937  938 ... 8121 8122 8123]\n",
      "  Test:  index=[   0    1    2 ... 4126 4128 4130]\n",
      "Fold 1:\n",
      "  Train: index=[   0    1    2 ... 8121 8122 8123]\n",
      "  Test:  index=[ 936  937  938 ... 5008 5009 5011]\n",
      "Fold 2:\n",
      "  Train: index=[   0    1    2 ... 8121 8122 8123]\n",
      "  Test:  index=[1910 1911 1912 ... 6027 6028 6029]\n",
      "Fold 3:\n",
      "  Train: index=[   0    1    2 ... 8121 8122 8123]\n",
      "  Test:  index=[2808 2809 2810 ... 6844 6845 6846]\n",
      "Fold 4:\n",
      "  Train: index=[   0    1    2 ... 6844 6845 6846]\n",
      "  Test:  index=[4276 4283 4291 ... 8121 8122 8123]\n"
     ]
    }
   ],
   "source": [
    "for i, (train_index, test_index) in enumerate(skf.split(x, y)):\n",
    "    print(f\"Fold {i}:\")\n",
    "    print(f\"  Train: index={train_index}\")\n",
    "    print(f\"  Test:  index={test_index}\")"
   ]
  },
  {
   "cell_type": "markdown",
   "metadata": {},
   "source": [
    "Now use the KNN model we have created and the skf train/test split. Cross_val_score will fit the data to the KNN model 5 times with respect to skf\n",
    "And we can print the score of each fold. Note its using the full dataset."
   ]
  },
  {
   "cell_type": "code",
   "execution_count": 153,
   "metadata": {
    "collapsed": false,
    "jupyter": {
     "outputs_hidden": false
    }
   },
   "outputs": [
    {
     "name": "stdout",
     "output_type": "stream",
     "text": [
      "Fold 0 score: 0.8615384615384616\n",
      "Fold 1 score: 1.0\n",
      "Fold 2 score: 0.9987692307692307\n",
      "Fold 3 score: 1.0\n",
      "Fold 4 score: 0.7684729064039408\n"
     ]
    }
   ],
   "source": [
    "scores5 = cross_val_score(knn_model5, x, y, cv=skf)\n",
    "\n",
    "# We can see the scores created for each of the 5 folds\n",
    "def print_score(scores):\n",
    "    for i in range(len(scores)):\n",
    "        print(f'Fold {i} score: {scores[i]}')\n",
    "\n",
    "print_score(scores5)"
   ]
  },
  {
   "cell_type": "markdown",
   "metadata": {},
   "source": [
    "We can then calculate the mean and the standard deviation of the scores to give us some metrics we can use to check how well the model performed."
   ]
  },
  {
   "cell_type": "code",
   "execution_count": 154,
   "metadata": {
    "collapsed": false,
    "jupyter": {
     "outputs_hidden": false
    }
   },
   "outputs": [
    {
     "name": "stdout",
     "output_type": "stream",
     "text": [
      "0.93 accuracy with a standard deviation of 0.10\n"
     ]
    }
   ],
   "source": [
    "print(\"%0.2f accuracy with a standard deviation of %0.2f\" % (scores5.mean(), scores5.std()))"
   ]
  },
  {
   "cell_type": "markdown",
   "metadata": {},
   "source": [
    "Its not too bad with 0.93 accuracy and std of 0.10 but can we improve this model?  We can try different neighbour values to see how this impacts the score and also try different weightings of uniform (where all neighbours are weighted equally) or distance (where closer neighbours will have a greater influence than more distant neighbours).\n",
    "\n",
    "In my testing i found that distance was the better weighting method as it improved accuracy slightly."
   ]
  },
  {
   "cell_type": "markdown",
   "source": [],
   "metadata": {
    "collapsed": false
   }
  },
  {
   "cell_type": "code",
   "execution_count": 155,
   "metadata": {
    "collapsed": false,
    "jupyter": {
     "outputs_hidden": false
    }
   },
   "outputs": [
    {
     "name": "stdout",
     "output_type": "stream",
     "text": [
      "KNN Using 3 neighbours:\n",
      "Fold 0 score: 0.8486153846153847\n",
      "Fold 1 score: 1.0\n",
      "Fold 2 score: 0.9987692307692307\n",
      "Fold 3 score: 1.0\n",
      "Fold 4 score: 0.8004926108374384\n",
      "\n",
      "\n",
      "0.93 accuracy with a standard deviation of 0.09\n"
     ]
    }
   ],
   "source": [
    "print('KNN Using 3 neighbours:')\n",
    "knn_model3 = KNeighborsClassifier(n_neighbors=3, weights='distance') # using 'distance' improves accuracy slightly\n",
    "scores3 = cross_val_score(knn_model3, x, y, cv=skf)\n",
    "print_score(scores3)\n",
    "print('\\n')\n",
    "print(\"%0.2f accuracy with a standard deviation of %0.2f\" % (scores3.mean(), scores3.std()))"
   ]
  },
  {
   "cell_type": "code",
   "execution_count": 156,
   "metadata": {
    "collapsed": false,
    "jupyter": {
     "outputs_hidden": false
    }
   },
   "outputs": [
    {
     "name": "stdout",
     "output_type": "stream",
     "text": [
      "KNN Using 2 neighbours:\n",
      "Fold 0 score: 0.856\n",
      "Fold 1 score: 1.0\n",
      "Fold 2 score: 1.0\n",
      "Fold 3 score: 1.0\n",
      "Fold 4 score: 0.9193349753694581\n",
      "\n",
      "\n",
      "0.96 accuracy with a standard deviation of 0.06\n"
     ]
    }
   ],
   "source": [
    "print('KNN Using 2 neighbours:')\n",
    "knn_model2 = KNeighborsClassifier(n_neighbors=2, weights='distance', p=1)  # p1= euclidean, p2= manhattan (using minkowksi metric)\n",
    "scores2 = cross_val_score(knn_model2, x, y, cv=skf)\n",
    "print_score(scores2)\n",
    "print('\\n')\n",
    "print(\"%0.2f accuracy with a standard deviation of %0.2f\" % (scores2.mean(), scores2.std()))"
   ]
  },
  {
   "cell_type": "markdown",
   "metadata": {},
   "source": [
    "So the model appears to improve with less neighbours. I would be inclined to leave it at 2 neighbours with the accuracy\n",
    "increasing to 96% and the standard deviation reducing to 0.06. I did test going down to 1 but there was no change from 2.\n",
    "Also tried changing the distance metric from Euclidean (P=1) and Manhattan (P=2) but this did not make any difference.\n",
    "It may however be preferable to use a value of 3 to prevent any draws in voting but this dataset seems to work better with 2.\n",
    "\n",
    "So lets check what the final model parameters looked like:"
   ]
  },
  {
   "cell_type": "code",
   "execution_count": 157,
   "metadata": {
    "collapsed": false,
    "jupyter": {
     "outputs_hidden": false
    }
   },
   "outputs": [
    {
     "data": {
      "text/plain": "{'algorithm': 'auto',\n 'leaf_size': 30,\n 'metric': 'minkowski',\n 'metric_params': None,\n 'n_jobs': None,\n 'n_neighbors': 2,\n 'p': 1,\n 'weights': 'distance'}"
     },
     "execution_count": 157,
     "metadata": {},
     "output_type": "execute_result"
    }
   ],
   "source": [
    "knn_model2.get_params()"
   ]
  },
  {
   "cell_type": "markdown",
   "metadata": {},
   "source": [
    "# Decision Tree Algorithm\n",
    "\n",
    "Now because our problem is a non linear binary classification problem the 2nd algorithm i will look to implement will be\n",
    "a decision tree. It also makes sense in my opinion, as the data we have consists of attributes which are categorical\n",
    "descriptors of a property of the mushroom (nom nom).\n",
    "\n",
    "As the decision tree can be visualised it may also help to identify certain characteristics of a mushroom that may make\n",
    "it poisonous or edible\n",
    "\n",
    "Now the data does not need to be one hot encoded for decision tree classification, however SKLEARN currently does not\n",
    "handle categorical data in its decision tree algorithm!!\n",
    "The data is not ordinal though so I can still use the previously one hot encoded data from the previous algorithm.\n",
    "\n",
    "I will however create a simple manual train/test (70/30) split this time and we can see the dimensions of the two splits below."
   ]
  },
  {
   "cell_type": "code",
   "execution_count": 158,
   "metadata": {
    "collapsed": false,
    "jupyter": {
     "outputs_hidden": false
    }
   },
   "outputs": [
    {
     "name": "stdout",
     "output_type": "stream",
     "text": [
      "x_train dimensions = (5686, 112) and x_test dimensions = (2438, 112)\n",
      "y_train dimensions = (5686,) and y_test dimensions = (2438,)\n"
     ]
    }
   ],
   "source": [
    "x_train, x_test, y_train, y_test = train_test_split(x, y, test_size=0.3, random_state=0)\n",
    "\n",
    "print(f'x_train dimensions = {x_train.shape} and x_test dimensions = {x_test.shape}')\n",
    "print(f'y_train dimensions = {y_train.shape} and y_test dimensions = {y_test.shape}')"
   ]
  },
  {
   "cell_type": "markdown",
   "metadata": {},
   "source": [
    "When creating a decision tree classifier we can set a max depth of the tree and we can tweak that parameters to help reduce the complexity of the tree.\n",
    "I will initially go with a depth of 10 and see how this peforms."
   ]
  },
  {
   "cell_type": "code",
   "execution_count": 159,
   "metadata": {
    "collapsed": false,
    "jupyter": {
     "outputs_hidden": false
    }
   },
   "outputs": [],
   "source": [
    "tree_model = tree.DecisionTreeClassifier(max_depth=10, random_state=0)"
   ]
  },
  {
   "cell_type": "markdown",
   "metadata": {},
   "source": [
    "We can then fit the model and make predictions using the test data and measure how it performs. IE how many did the model predict correctly"
   ]
  },
  {
   "cell_type": "code",
   "execution_count": 160,
   "metadata": {
    "collapsed": false,
    "jupyter": {
     "outputs_hidden": false
    }
   },
   "outputs": [
    {
     "name": "stdout",
     "output_type": "stream",
     "text": [
      "1.0\n"
     ]
    }
   ],
   "source": [
    "# fit the model\n",
    "tree_model.fit(x_train, y_train)\n",
    "\n",
    "# create predictions using the test split\n",
    "tree_predict = tree_model.predict(x_test)\n",
    "\n",
    "# Here we can see the accuracy.\n",
    "acc = accuracy_score(y_test, tree_predict)\n",
    "print(acc)"
   ]
  },
  {
   "cell_type": "markdown",
   "metadata": {},
   "source": [
    "Now the model is returning an accuracy of 1 which is pretty good. So lets have a look at the parameters of the tree."
   ]
  },
  {
   "cell_type": "code",
   "execution_count": 161,
   "metadata": {
    "collapsed": false,
    "jupyter": {
     "outputs_hidden": false
    }
   },
   "outputs": [
    {
     "data": {
      "text/plain": "{'ccp_alpha': 0.0,\n 'class_weight': None,\n 'criterion': 'gini',\n 'max_depth': 10,\n 'max_features': None,\n 'max_leaf_nodes': None,\n 'min_impurity_decrease': 0.0,\n 'min_samples_leaf': 1,\n 'min_samples_split': 2,\n 'min_weight_fraction_leaf': 0.0,\n 'random_state': 0,\n 'splitter': 'best'}"
     },
     "execution_count": 161,
     "metadata": {},
     "output_type": "execute_result"
    }
   ],
   "source": [
    "tree_model.get_params()"
   ]
  },
  {
   "cell_type": "markdown",
   "metadata": {},
   "source": [
    "And check the actual depth used."
   ]
  },
  {
   "cell_type": "code",
   "execution_count": 162,
   "metadata": {
    "collapsed": false,
    "jupyter": {
     "outputs_hidden": false
    }
   },
   "outputs": [
    {
     "data": {
      "text/plain": "7"
     },
     "execution_count": 162,
     "metadata": {},
     "output_type": "execute_result"
    }
   ],
   "source": [
    "tree_model.get_depth()"
   ]
  },
  {
   "cell_type": "markdown",
   "metadata": {},
   "source": [
    "Note the tree has a depth of 7 so i am going to manually check the depth to use:\n",
    "We could also change the criterion which is the method of splitting the nodes."
   ]
  },
  {
   "cell_type": "code",
   "execution_count": 163,
   "metadata": {
    "collapsed": false,
    "jupyter": {
     "outputs_hidden": false
    }
   },
   "outputs": [
    {
     "name": "stdout",
     "output_type": "stream",
     "text": [
      "max_depth of 1, returns accuracy of: 0.8798195242001641\n",
      "max_depth of 2, returns accuracy of: 0.9294503691550451\n",
      "max_depth of 3, returns accuracy of: 0.9639048400328137\n",
      "max_depth of 4, returns accuracy of: 0.9856439704675964\n",
      "max_depth of 5, returns accuracy of: 0.9995898277276456\n",
      "max_depth of 6, returns accuracy of: 1.0\n",
      "max_depth of 7, returns accuracy of: 1.0\n",
      "max_depth of 8, returns accuracy of: 1.0\n",
      "max_depth of 9, returns accuracy of: 1.0\n"
     ]
    }
   ],
   "source": [
    "def mytree(max_depth, criterion):\n",
    "    for i in range(1, max_depth):\n",
    "        tree_model = tree.DecisionTreeClassifier(max_depth=i, criterion=criterion,random_state=0)\n",
    "        tree_model.fit(x_train, y_train)\n",
    "        tree_predict = tree_model.predict(x_test)\n",
    "        acc = accuracy_score(y_test, tree_predict)\n",
    "        print(f'max_depth of {i}, returns accuracy of: {acc}')\n",
    "\n",
    "# we can see below how the depth of the tree impacts the accuracy as the depth increases.\n",
    "mytree(10,criterion='entropy') # entropy performed best from [gini, entropy and log loss]\n",
    "# mytree(10,criterion='gini')\n",
    "# mytree(10,criterion='log_loss')"
   ]
  },
  {
   "cell_type": "markdown",
   "metadata": {},
   "source": [
    "In the above testing i found that using entropy to split the nodes helped reduce the max depth of the tree to 6 before it obtained an accuracy of 1.\n",
    " So using the above configuration i am going to now create a tree model using those parameters"
   ]
  },
  {
   "cell_type": "code",
   "execution_count": 164,
   "metadata": {
    "collapsed": false,
    "jupyter": {
     "outputs_hidden": false
    }
   },
   "outputs": [
    {
     "data": {
      "text/plain": "{'ccp_alpha': 0.0,\n 'class_weight': None,\n 'criterion': 'entropy',\n 'max_depth': 6,\n 'max_features': None,\n 'max_leaf_nodes': None,\n 'min_impurity_decrease': 0.0,\n 'min_samples_leaf': 1,\n 'min_samples_split': 2,\n 'min_weight_fraction_leaf': 0.0,\n 'random_state': None,\n 'splitter': 'best'}"
     },
     "execution_count": 164,
     "metadata": {},
     "output_type": "execute_result"
    }
   ],
   "source": [
    "tree_model = tree.DecisionTreeClassifier(max_depth=6,criterion='entropy')\n",
    "tree_model.fit(x_train, y_train)\n",
    "tree_model.get_params()"
   ]
  },
  {
   "cell_type": "markdown",
   "metadata": {},
   "source": [
    "Lets find out a bit more about the tree thats been created. Check how many leaves where created in the tree and we will also create tree labels to help understand the splitting process that is happening at each node."
   ]
  },
  {
   "cell_type": "code",
   "execution_count": 165,
   "metadata": {
    "collapsed": false,
    "jupyter": {
     "outputs_hidden": false
    }
   },
   "outputs": [
    {
     "data": {
      "text/plain": "12"
     },
     "execution_count": 165,
     "metadata": {},
     "output_type": "execute_result"
    }
   ],
   "source": [
    "# obtain the one hot encoded label names to help aid tree visualisation.\n",
    "tree_labels = one_hot_shrooms.columns.values\n",
    "\n",
    "# we can see that the number of decision points in the tree is 12.\n",
    "tree_model.get_n_leaves()"
   ]
  },
  {
   "cell_type": "markdown",
   "metadata": {},
   "source": [
    "Above we can see that the tree uses 12 leaf nodes.\n",
    "\n",
    "And below we can see the features used in each node of the tree with the starting node being  (odor = N) <= 0.5. (Remembering the data has been one hot encoded!!)  This first split, looking at mushrooms with no odor, has quite a high entropy score and so means there is still a lot of impurity or diverseness in the node at that level, but it quickly works down the tree to reduce the impurity score until it reaches zero and it is able to classify the mushroom as edible or poisonous. The logic is that for the rule in a node, if the data meets the splitting rule then it goes to the right hand side and it the data fails to meet the splitting rules it goes to the left hand side."
   ]
  },
  {
   "cell_type": "code",
   "execution_count": 166,
   "metadata": {
    "collapsed": false,
    "jupyter": {
     "outputs_hidden": false
    }
   },
   "outputs": [
    {
     "data": {
      "text/plain": "[Text(0.5, 0.9285714285714286, 'odor_n <= 0.5\\nentropy = 0.999\\nsamples = 5686\\nvalue = [2936, 2750]'),\n Text(0.23076923076923078, 0.7857142857142857, 'bruises_t <= 0.5\\nentropy = 0.654\\nsamples = 3203\\nvalue = [540, 2663]'),\n Text(0.15384615384615385, 0.6428571428571429, 'entropy = 0.0\\nsamples = 2279\\nvalue = [0, 2279]'),\n Text(0.3076923076923077, 0.6428571428571429, 'habitat_u <= 0.5\\nentropy = 0.979\\nsamples = 924\\nvalue = [540, 384]'),\n Text(0.23076923076923078, 0.5, 'odor_f <= 0.5\\nentropy = 0.829\\nsamples = 731\\nvalue = [540, 191]'),\n Text(0.15384615384615385, 0.35714285714285715, 'odor_p <= 0.5\\nentropy = 0.605\\nsamples = 634\\nvalue = [540, 94]'),\n Text(0.07692307692307693, 0.21428571428571427, 'entropy = 0.0\\nsamples = 540\\nvalue = [540, 0]'),\n Text(0.23076923076923078, 0.21428571428571427, 'entropy = 0.0\\nsamples = 94\\nvalue = [0, 94]'),\n Text(0.3076923076923077, 0.35714285714285715, 'entropy = 0.0\\nsamples = 97\\nvalue = [0, 97]'),\n Text(0.38461538461538464, 0.5, 'entropy = 0.0\\nsamples = 193\\nvalue = [0, 193]'),\n Text(0.7692307692307693, 0.7857142857142857, 'spore-print-color_r <= 0.5\\nentropy = 0.219\\nsamples = 2483\\nvalue = [2396, 87]'),\n Text(0.6923076923076923, 0.6428571428571429, 'stalk-surface-below-ring_y <= 0.5\\nentropy = 0.111\\nsamples = 2432\\nvalue = [2396, 36]'),\n Text(0.5384615384615384, 0.5, 'cap-surface_g <= 0.5\\nentropy = 0.025\\nsamples = 2391\\nvalue = [2385, 6]'),\n Text(0.46153846153846156, 0.35714285714285715, 'gill-size_b <= 0.5\\nentropy = 0.014\\nsamples = 2388\\nvalue = [2385, 3]'),\n Text(0.38461538461538464, 0.21428571428571427, 'bruises_f <= 0.5\\nentropy = 0.148\\nsamples = 142\\nvalue = [139, 3]'),\n Text(0.3076923076923077, 0.07142857142857142, 'entropy = 0.0\\nsamples = 3\\nvalue = [0, 3]'),\n Text(0.46153846153846156, 0.07142857142857142, 'entropy = 0.0\\nsamples = 139\\nvalue = [139, 0]'),\n Text(0.5384615384615384, 0.21428571428571427, 'entropy = 0.0\\nsamples = 2246\\nvalue = [2246, 0]'),\n Text(0.6153846153846154, 0.35714285714285715, 'entropy = 0.0\\nsamples = 3\\nvalue = [0, 3]'),\n Text(0.8461538461538461, 0.5, 'gill-size_b <= 0.5\\nentropy = 0.839\\nsamples = 41\\nvalue = [11, 30]'),\n Text(0.7692307692307693, 0.35714285714285715, 'entropy = 0.0\\nsamples = 30\\nvalue = [0, 30]'),\n Text(0.9230769230769231, 0.35714285714285715, 'entropy = 0.0\\nsamples = 11\\nvalue = [11, 0]'),\n Text(0.8461538461538461, 0.6428571428571429, 'entropy = 0.0\\nsamples = 51\\nvalue = [0, 51]')]"
     },
     "execution_count": 166,
     "metadata": {},
     "output_type": "execute_result"
    },
    {
     "data": {
      "text/plain": "<Figure size 1200x1200 with 1 Axes>",
      "image/png": "[encoded data removed]"
     },
     "metadata": {},
     "output_type": "display_data"
    }
   ],
   "source": [
    "fig, axes = plt.subplots(nrows = 1,ncols = 1,figsize = (4,4), dpi=300)\n",
    "tree.plot_tree(tree_model,feature_names=tree_labels, filled=True)"
   ]
  },
  {
   "cell_type": "markdown",
   "source": [
    "Looking at feature importance below. We can see that there is quite a lot of attributes that have not been used at all."
   ],
   "metadata": {
    "collapsed": false
   }
  },
  {
   "cell_type": "code",
   "execution_count": 167,
   "outputs": [
    {
     "data": {
      "text/plain": "array([0.        , 0.        , 0.        , 0.        , 0.        ,\n       0.        , 0.        , 0.00479453, 0.        , 0.        ,\n       0.        , 0.        , 0.        , 0.        , 0.        ,\n       0.        , 0.        , 0.        , 0.        , 0.        ,\n       0.00369198, 0.20968858, 0.        , 0.        , 0.03905414,\n       0.        , 0.        , 0.5353066 , 0.0675645 , 0.        ,\n       0.        , 0.        , 0.        , 0.        , 0.        ,\n       0.00821211, 0.        , 0.        , 0.        , 0.        ,\n       0.        , 0.        , 0.        , 0.        , 0.        ,\n       0.        , 0.        , 0.        , 0.        , 0.        ,\n       0.        , 0.        , 0.        , 0.        , 0.        ,\n       0.        , 0.        , 0.        , 0.03088626, 0.        ,\n       0.        , 0.        , 0.        , 0.        , 0.        ,\n       0.        , 0.        , 0.        , 0.        , 0.        ,\n       0.        , 0.        , 0.        , 0.        , 0.        ,\n       0.        , 0.        , 0.        , 0.        , 0.        ,\n       0.        , 0.        , 0.        , 0.        , 0.        ,\n       0.        , 0.        , 0.        , 0.        , 0.        ,\n       0.        , 0.        , 0.        , 0.        , 0.        ,\n       0.04814992, 0.        , 0.        , 0.        , 0.        ,\n       0.        , 0.        , 0.        , 0.        , 0.        ,\n       0.        , 0.        , 0.        , 0.        , 0.        ,\n       0.05265137, 0.        ])"
     },
     "execution_count": 167,
     "metadata": {},
     "output_type": "execute_result"
    }
   ],
   "source": [
    "tree_model.feature_importances_"
   ],
   "metadata": {
    "collapsed": false
   }
  },
  {
   "cell_type": "markdown",
   "source": [
    "As the visual representation is quite small and hard to read we can extract a text representation of the tree."
   ],
   "metadata": {
    "collapsed": false
   }
  },
  {
   "cell_type": "code",
   "execution_count": 168,
   "metadata": {
    "collapsed": false,
    "jupyter": {
     "outputs_hidden": false
    }
   },
   "outputs": [
    {
     "name": "stdout",
     "output_type": "stream",
     "text": [
      "|--- feature_27 <= 0.50\n",
      "|   |--- feature_21 <= 0.50\n",
      "|   |   |--- class: p\n",
      "|   |--- feature_21 >  0.50\n",
      "|   |   |--- feature_110 <= 0.50\n",
      "|   |   |   |--- feature_24 <= 0.50\n",
      "|   |   |   |   |--- feature_28 <= 0.50\n",
      "|   |   |   |   |   |--- class: e\n",
      "|   |   |   |   |--- feature_28 >  0.50\n",
      "|   |   |   |   |   |--- class: p\n",
      "|   |   |   |--- feature_24 >  0.50\n",
      "|   |   |   |   |--- class: p\n",
      "|   |   |--- feature_110 >  0.50\n",
      "|   |   |   |--- class: p\n",
      "|--- feature_27 >  0.50\n",
      "|   |--- feature_95 <= 0.50\n",
      "|   |   |--- feature_58 <= 0.50\n",
      "|   |   |   |--- feature_7 <= 0.50\n",
      "|   |   |   |   |--- feature_35 <= 0.50\n",
      "|   |   |   |   |   |--- feature_20 <= 0.50\n",
      "|   |   |   |   |   |   |--- class: p\n",
      "|   |   |   |   |   |--- feature_20 >  0.50\n",
      "|   |   |   |   |   |   |--- class: e\n",
      "|   |   |   |   |--- feature_35 >  0.50\n",
      "|   |   |   |   |   |--- class: e\n",
      "|   |   |   |--- feature_7 >  0.50\n",
      "|   |   |   |   |--- class: p\n",
      "|   |   |--- feature_58 >  0.50\n",
      "|   |   |   |--- feature_35 <= 0.50\n",
      "|   |   |   |   |--- class: p\n",
      "|   |   |   |--- feature_35 >  0.50\n",
      "|   |   |   |   |--- class: e\n",
      "|   |--- feature_95 >  0.50\n",
      "|   |   |--- class: p\n",
      "\n"
     ]
    }
   ],
   "source": [
    "tree_text = tree.export_text(tree_model)\n",
    "print(tree_text)"
   ]
  },
  {
   "cell_type": "markdown",
   "source": [
    "Because however the data is one hot encoded its just referencing the feature number rather than the label name so lets see if we can add more context and call out the name of the feature and its importance score."
   ],
   "metadata": {
    "collapsed": false
   }
  },
  {
   "cell_type": "code",
   "execution_count": 169,
   "outputs": [
    {
     "name": "stdout",
     "output_type": "stream",
     "text": [
      "Feature 7: cap-surface_g has in importance score of 0.004794534534378047\n",
      "Feature 20: bruises_f has in importance score of 0.0036919805272288817\n",
      "Feature 21: bruises_t has in importance score of 0.20968858441959387\n",
      "Feature 24: odor_f has in importance score of 0.03905413503800331\n",
      "Feature 27: odor_n has in importance score of 0.5353065959604323\n",
      "Feature 28: odor_p has in importance score of 0.06756450277632611\n",
      "Feature 35: gill-size_b has in importance score of 0.008212110547567803\n",
      "Feature 58: stalk-surface-below-ring_y has in importance score of 0.030886264489805016\n",
      "Feature 95: spore-print-color_r has in importance score of 0.04814992439743123\n",
      "Feature 110: habitat_u has in importance score of 0.05265136730923351\n"
     ]
    }
   ],
   "source": [
    "t = tree_model.feature_importances_\n",
    "num_feature = []\n",
    "mytree_features = []\n",
    "mylabels = []\n",
    "for i in range(len(t)):\n",
    "    if t[i]>0:\n",
    "        num_feature.append(i)\n",
    "        mytree_features.append(t[i])\n",
    "        mylabels.append(tree_labels[i])\n",
    "\n",
    "for i in range(len(mylabels)):\n",
    "    print(f'Feature {num_feature[i]}: {mylabels[i]} has in importance score of {mytree_features[i]}')"
   ],
   "metadata": {
    "collapsed": false
   }
  },
  {
   "cell_type": "markdown",
   "metadata": {},
   "source": [
    "Similar to the KNN evaluation we can use similar metrics to evaluate the test data using our tree model. First lets check our model using the test data and"
   ]
  },
  {
   "cell_type": "code",
   "execution_count": 170,
   "outputs": [
    {
     "name": "stdout",
     "output_type": "stream",
     "text": [
      "Tree model score using test data:\n",
      "Fold 0 score: 1.0\n",
      "Fold 1 score: 0.9979508196721312\n",
      "Fold 2 score: 1.0\n",
      "Fold 3 score: 1.0\n",
      "Fold 4 score: 0.9958932238193019\n",
      "\n",
      "\n",
      "0.93 accuracy with a standard deviation of 0.09\n"
     ]
    }
   ],
   "source": [
    "print('Tree model score using test data:')\n",
    "\n",
    "tree_score_test = cross_val_score(tree_model, x_test,y_test, cv=5, scoring='accuracy')\n",
    "print_score(tree_score_test)\n",
    "print('\\n')\n",
    "print(\"%0.2f accuracy with a standard deviation of %0.2f\" % (scores3.mean(), scores3.std()))"
   ],
   "metadata": {
    "collapsed": false
   }
  },
  {
   "cell_type": "markdown",
   "source": [
    "So our tree model scores a 0.93 accuracy and a standard deviation of 0.09 when the model is applied to the test data and that test data is cross validated 5 times.. This is broadly similar to the first KNN model using 5 neighbours.\n",
    "\n",
    "Next i will check some other metrics to look at the data. I cannot figure out how to pass the required 'pos_label = 'e' argument into the cross_validate function (\"https://scikit-learn.org/stable/modules/cross_validation.html#:~:text=3.1.1.1.%20The%20cross_validate%20function%20and%20multiple%20metric%20evaluation\") when using multiple metrics. So i will instead calculate these separately using the manually split test data:\n"
   ],
   "metadata": {
    "collapsed": false
   }
  },
  {
   "cell_type": "code",
   "execution_count": 171,
   "outputs": [
    {
     "name": "stdout",
     "output_type": "stream",
     "text": [
      "['p' 'e' 'e' ... 'p' 'p' 'p']\n",
      "['p' 'e' 'e' ... 'p' 'p' 'p']\n"
     ]
    }
   ],
   "source": [
    "# For the next metric test of recall_score. i am going to have to predict the class.\n",
    "print(y_test)\n",
    "y_pred = tree_model.predict(x_test)\n",
    "print(y_pred)"
   ],
   "metadata": {
    "collapsed": false
   }
  },
  {
   "cell_type": "code",
   "execution_count": 172,
   "outputs": [
    {
     "data": {
      "text/plain": "1.0"
     },
     "execution_count": 172,
     "metadata": {},
     "output_type": "execute_result"
    }
   ],
   "source": [
    "recall_score(y_test, y_pred, average='binary', pos_label='e') # where edible is the positive label- dont know how to pass this into the cross_validate function and i am about to launch my pc out the window !!"
   ],
   "metadata": {
    "collapsed": false
   }
  },
  {
   "cell_type": "markdown",
   "source": [
    "The recall score is great at 1. and the same applies for the precision score also at 1.  This however makes sense when we look at the confusion matrix and see that the tree model has predicted with 100% accuracy against the test data."
   ],
   "metadata": {
    "collapsed": false
   }
  },
  {
   "cell_type": "code",
   "execution_count": 173,
   "outputs": [
    {
     "data": {
      "text/plain": "1.0"
     },
     "execution_count": 173,
     "metadata": {},
     "output_type": "execute_result"
    }
   ],
   "source": [
    "precision_score(y_test, y_pred,  pos_label='e')"
   ],
   "metadata": {
    "collapsed": false
   }
  },
  {
   "cell_type": "code",
   "execution_count": 174,
   "outputs": [
    {
     "data": {
      "text/plain": "array([[1272,    0],\n       [   0, 1166]], dtype=int64)"
     },
     "execution_count": 174,
     "metadata": {},
     "output_type": "execute_result"
    }
   ],
   "source": [
    "confusion_matrix(y_test, y_pred)"
   ],
   "metadata": {
    "collapsed": false
   }
  },
  {
   "cell_type": "markdown",
   "source": [
    "# Section 3 Conclusion"
   ],
   "metadata": {
    "collapsed": false
   }
  },
  {
   "cell_type": "markdown",
   "source": [
    "I think both the KNN and the Decision Tree models have performed quite well. Both have a high accuracy levels and are quite close overall.  However i would opt for the decision tree in this instance. The rationale would be that its more easily explainable in that i can see how the rules applied when splitting the nodes, so I have a much better understanding of what features can be used to identify poisonous mushrooms.\n",
    "\n",
    "The results of the final test of the Decision tree were also compelling given that it predicted with 100% accuracy. So now wiser and more mushroom aware, I am now off down the local meadow to get myself some shrooms safe in the knowledge that the most dangerous thing that will happen will be standing in that cow pat."
   ],
   "metadata": {
    "collapsed": false
   }
  },
  {
   "cell_type": "markdown",
   "source": [],
   "metadata": {
    "collapsed": false
   }
  },
  {
   "cell_type": "markdown",
   "source": [],
   "metadata": {
    "collapsed": false
   }
  }
 ],
 "metadata": {
  "kernelspec": {
   "display_name": "Python 3 (ipykernel)",
   "language": "python",
   "name": "python3"
  },
  "language_info": {
   "codemirror_mode": {
    "name": "ipython",
    "version": 3
   },
   "file_extension": ".py",
   "mimetype": "text/x-python",
   "name": "python",
   "nbconvert_exporter": "python",
   "pygments_lexer": "ipython3",
   "version": "3.9.16"
  }
 },
 "nbformat": 4,
 "nbformat_minor": 4
}

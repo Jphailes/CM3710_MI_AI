{
 "cells": [
  {
   "cell_type": "markdown",
   "metadata": {},
   "source": [
    "Using python 3.9 on anaconda env\n",
    "\n",
    "Using mushroom data from :\n",
    "https://archive.ics.uci.edu/ml/datasets/Mushroom\n",
    "\n",
    "This data set includes descriptions of hypothetical samples corresponding to 23 species of gilled mushrooms in the\n",
    "Agaricus and Lepiota Family (pp. 500-525). Each species is identified as definitely edible, definitely poisonous, or\n",
    "of unknown edibility and not recommended. This latter class was combined with the poisonous one. The Guide clearly\n",
    "states that there is no simple rule for determining the edibility of a mushroom; no rule like ``leaflets three,\n",
    "let it be'' for Poisonous Oak and Ivy.\n",
    "\n",
    "Attribute Information:\n",
    "\n",
    "1. cap-shape: bell=b,conical=c,convex=x,flat=f, knobbed=k,sunken=s\n",
    "2. cap-surface: fibrous=f,grooves=g,scaly=y,smooth=s\n",
    "3. cap-color: brown=n,buff=b,cinnamon=c,gray=g,green=r, pink=p,purple=u,red=e,white=w,yellow=y\n",
    "4. bruises?: bruises=t,no=f\n",
    "5. odor: almond=a,anise=l,creosote=c,fishy=y,foul=f, musty=m,none=n,pungent=p,spicy=s\n",
    "6. gill-attachment: attached=a,descending=d,free=f,notched=n\n",
    "7. gill-spacing: close=c,crowded=w,distant=d\n",
    "8. gill-size: broad=b,narrow=n\n",
    "9. gill-color: black=k,brown=n,buff=b,chocolate=h,gray=g, green=r,orange=o,pink=p,purple=u,red=e, white=w,yellow=y\n",
    "10. stalk-shape: enlarging=e,tapering=t\n",
    "11. stalk-root: bulbous=b,club=c,cup=u,equal=e, rhizomorphs=z,rooted=r,missing=?   <<<<< ## note missing values here ##\n",
    "12. stalk-surface-above-ring: fibrous=f,scaly=y,silky=k,smooth=s\n",
    "13. stalk-surface-below-ring: fibrous=f,scaly=y,silky=k,smooth=s\n",
    "14. stalk-color-above-ring: brown=n,buff=b,cinnamon=c,gray=g,orange=o, pink=p,red=e,white=w,yellow=y\n",
    "15. stalk-color-below-ring: brown=n,buff=b,cinnamon=c,gray=g,orange=o, pink=p,red=e,white=w,yellow=y\n",
    "16. veil-type: partial=p,universal=u\n",
    "17. veil-color: brown=n,orange=o,white=w,yellow=y\n",
    "18. ring-number: none=n,one=o,two=t\n",
    "19. ring-type: cobwebby=c,evanescent=e,flaring=f,large=l, none=n,pendant=p,sheathing=s,zone=z\n",
    "20. spore-print-color: black=k,brown=n,buff=b,chocolate=h,green=r, orange=o,purple=u,white=w,yellow=y\n",
    "21. population: abundant=a,clustered=c,numerous=n, scattered=s,several=v,solitary=y\n",
    "22. habitat: grasses=g,leaves=l,meadows=m,paths=p, urban=u,waste=w,woods=d\n",
    "\n"
   ]
  },
  {
   "cell_type": "code",
   "execution_count": 193,
   "metadata": {
    "collapsed": false,
    "jupyter": {
     "outputs_hidden": false
    }
   },
   "outputs": [],
   "source": [
    "import matplotlib.pyplot as plt\n",
    "# Required imports for both algorithms\n",
    "import pandas as pd\n",
    "import numpy as np\n",
    "from sklearn.neighbors import KNeighborsClassifier\n",
    "from sklearn.model_selection import train_test_split, cross_val_score, StratifiedKFold\n",
    "import plotly.express as px\n",
    "from sklearn import tree\n",
    "from sklearn.metrics import accuracy_score\n",
    "# import matplotlib_inline\n",
    "# from matplotlib import figure\n",
    "from sklearn.feature_selection import SelectFromModel"
   ]
  },
  {
   "cell_type": "markdown",
   "metadata": {},
   "source": [
    "The Mushroom dataset is not labelled so before displaying it. I will:\n",
    " - Load the dataset\n",
    " - Create the predicted class from the first column\n",
    " - Drop attribute \"11. stalk-root\" as it contains missing values which I would not want to randomise in anyway as it could cause undesirable incorrect classification.\n",
    " - Create labels\n",
    " -"
   ]
  },
  {
   "cell_type": "code",
   "execution_count": 3,
   "metadata": {
    "collapsed": false,
    "jupyter": {
     "outputs_hidden": false
    }
   },
   "outputs": [],
   "source": [
    "# load the mushroom data. Change location for mushrooms to where you saved the file.\n",
    "mushrooms = r'C:\\Users\\jphai\\PycharmProjects\\Mushroom_Assessment\\agaricus-lepiota.data'\n",
    "\n",
    "shrooms = pd.read_csv(mushrooms, header=None)\n",
    "\n",
    "# split the data set between predicted class and attributes.\n",
    "# the first colum in the dataset is the class, which will e(edible) or (p)poisonous\n",
    "predicted_class = shrooms[0]\n",
    "shrooms = shrooms.drop([0], axis=1)\n",
    "\n",
    "# dropped stalk_root here due to the missing values.\n",
    "shrooms = shrooms.drop([11], axis=1)\n",
    "\n",
    "# create the column labels as the index makes interpretation harder.\n",
    "col_labels = ['cap-shape',\n",
    "              'cap-surface',\n",
    "              'cap-color',\n",
    "              'bruises',\n",
    "              'odor',\n",
    "              'gill-attachment',\n",
    "              'gill-spacing',\n",
    "              'gill-size',\n",
    "              'gill-color',\n",
    "              'stalk-shape',\n",
    "              # 'stalk-root',     # removed due to missing values\n",
    "              'stalk-surface-above-ring',\n",
    "              'stalk-surface-below-ring',\n",
    "              'stalk-color-above-ring',\n",
    "              'stalk-color-below-ring',\n",
    "              'veil-type',\n",
    "              'veil-color',\n",
    "              'ring-number',\n",
    "              'ring-type',\n",
    "              'spore-print-color',\n",
    "              'population',\n",
    "              'habitat'\n",
    "              ]"
   ]
  },
  {
   "cell_type": "markdown",
   "metadata": {},
   "source": [
    "Now we can add the labels and have a look at the data. I am taking a copy here incase i want to get back to the indexed version."
   ]
  },
  {
   "cell_type": "code",
   "execution_count": 4,
   "metadata": {
    "collapsed": false,
    "jupyter": {
     "outputs_hidden": false
    }
   },
   "outputs": [
    {
     "name": "stdout",
     "output_type": "stream",
     "text": [
      "  cap-shape cap-surface cap-color bruises odor gill-attachment gill-spacing  \\\n",
      "0         x           s         n       t    p               f            c   \n",
      "1         x           s         y       t    a               f            c   \n",
      "2         b           s         w       t    l               f            c   \n",
      "3         x           y         w       t    p               f            c   \n",
      "4         x           s         g       f    n               f            w   \n",
      "\n",
      "  gill-size gill-color stalk-shape  ... stalk-surface-below-ring  \\\n",
      "0         n          k           e  ...                        s   \n",
      "1         b          k           e  ...                        s   \n",
      "2         b          n           e  ...                        s   \n",
      "3         n          n           e  ...                        s   \n",
      "4         b          k           t  ...                        s   \n",
      "\n",
      "  stalk-color-above-ring stalk-color-below-ring veil-type veil-color  \\\n",
      "0                      w                      w         p          w   \n",
      "1                      w                      w         p          w   \n",
      "2                      w                      w         p          w   \n",
      "3                      w                      w         p          w   \n",
      "4                      w                      w         p          w   \n",
      "\n",
      "  ring-number ring-type spore-print-color population habitat  \n",
      "0           o         p                 k          s       u  \n",
      "1           o         p                 n          n       g  \n",
      "2           o         p                 n          n       m  \n",
      "3           o         p                 k          s       u  \n",
      "4           o         e                 n          a       g  \n",
      "\n",
      "[5 rows x 21 columns]\n"
     ]
    }
   ],
   "source": [
    "labelled_shrooms = shrooms.copy()\n",
    "labelled_shrooms.columns = col_labels\n",
    "\n",
    "print(labelled_shrooms.head(5))"
   ]
  },
  {
   "cell_type": "markdown",
   "metadata": {},
   "source": [
    "And lets check the predicted class, which is either edible (e) or poisonous (p)"
   ]
  },
  {
   "cell_type": "code",
   "execution_count": 5,
   "metadata": {
    "collapsed": false,
    "jupyter": {
     "outputs_hidden": false
    }
   },
   "outputs": [
    {
     "name": "stdout",
     "output_type": "stream",
     "text": [
      "0    p\n",
      "1    e\n",
      "2    e\n",
      "3    p\n",
      "4    e\n",
      "Name: 0, dtype: object\n"
     ]
    }
   ],
   "source": [
    "print(predicted_class.head(5))"
   ]
  },
  {
   "cell_type": "markdown",
   "metadata": {},
   "source": [
    "On checking the data we can see that is all categorical with a lookup required to understand the meaning of the value(see attribute information above). IE cap-colour = n, represents the colour brown.\n",
    "The data is not ordinal.\n",
    "\n",
    "So in order to be able to work with the data we will need to one hot encode it. This will create a much wider dataset, with the values of each column being suffixed to the column name and a 1 or 0 value is left in that column to indicate if the observation has that characteristic.\n",
    "\n",
    "All the data is now binary values so there is no need for any further processing such as scaling or normalising."
   ]
  },
  {
   "cell_type": "code",
   "execution_count": 6,
   "metadata": {
    "collapsed": false,
    "jupyter": {
     "outputs_hidden": false
    }
   },
   "outputs": [
    {
     "name": "stdout",
     "output_type": "stream",
     "text": [
      "   cap-shape_b  cap-shape_c  cap-shape_f  cap-shape_k  cap-shape_s  \\\n",
      "0            0            0            0            0            0   \n",
      "1            0            0            0            0            0   \n",
      "2            1            0            0            0            0   \n",
      "3            0            0            0            0            0   \n",
      "4            0            0            0            0            0   \n",
      "\n",
      "   cap-shape_x  cap-surface_f  cap-surface_g  cap-surface_s  cap-surface_y  \\\n",
      "0            1              0              0              1              0   \n",
      "1            1              0              0              1              0   \n",
      "2            0              0              0              1              0   \n",
      "3            1              0              0              0              1   \n",
      "4            1              0              0              1              0   \n",
      "\n",
      "   ...  population_s  population_v  population_y  habitat_d  habitat_g  \\\n",
      "0  ...             1             0             0          0          0   \n",
      "1  ...             0             0             0          0          1   \n",
      "2  ...             0             0             0          0          0   \n",
      "3  ...             1             0             0          0          0   \n",
      "4  ...             0             0             0          0          1   \n",
      "\n",
      "   habitat_l  habitat_m  habitat_p  habitat_u  habitat_w  \n",
      "0          0          0          0          1          0  \n",
      "1          0          0          0          0          0  \n",
      "2          0          1          0          0          0  \n",
      "3          0          0          0          1          0  \n",
      "4          0          0          0          0          0  \n",
      "\n",
      "[5 rows x 112 columns]\n"
     ]
    }
   ],
   "source": [
    "# One hot encode dem shrooms as all my data points are categorical.\n",
    "one_hot_shrooms = pd.get_dummies(labelled_shrooms)\n",
    "\n",
    "# as my data is now all binary values, then there is not further preprocessing required.\n",
    "# IE there is no continuous data so no need to scale or normalise, etc.\n",
    "print(one_hot_shrooms.head(5))"
   ]
  },
  {
   "cell_type": "markdown",
   "metadata": {},
   "source": [
    "Maybe not actually required but i will also convert the data to numpy arrays to aid performance"
   ]
  },
  {
   "cell_type": "code",
   "execution_count": 7,
   "metadata": {
    "collapsed": false,
    "jupyter": {
     "outputs_hidden": false
    }
   },
   "outputs": [],
   "source": [
    "# convert to numpy array to improve performance\n",
    "x = one_hot_shrooms.to_numpy()\n",
    "y = predicted_class.to_numpy()"
   ]
  },
  {
   "cell_type": "markdown",
   "metadata": {},
   "source": [
    "First lets try a KNN algorithm. KNN is a lazy algorithm which means it does not need any training points for model generation.\n",
    "We will try different values of K and different weightings to see how these impact the model but will initially use a value of 5"
   ]
  },
  {
   "cell_type": "code",
   "execution_count": 8,
   "metadata": {
    "collapsed": false,
    "jupyter": {
     "outputs_hidden": false
    }
   },
   "outputs": [],
   "source": [
    "# Create a KNeighborsClassifier object and set number of neighbours to 5 initially.\n",
    "knn_model5 = KNeighborsClassifier(n_neighbors=5, weights='distance') # try distance and uniform"
   ]
  },
  {
   "cell_type": "markdown",
   "metadata": {},
   "source": [
    "Rather that manually creating a Train/Test split i will use a stratified K fold which means the data is split between train and test 5 times."
   ]
  },
  {
   "cell_type": "code",
   "execution_count": 9,
   "metadata": {
    "collapsed": false,
    "jupyter": {
     "outputs_hidden": false
    }
   },
   "outputs": [
    {
     "name": "stdout",
     "output_type": "stream",
     "text": [
      "StratifiedKFold(n_splits=5, random_state=None, shuffle=False)\n"
     ]
    }
   ],
   "source": [
    "skf = StratifiedKFold(n_splits=5)\n",
    "skf.get_n_splits(x, y)\n",
    "print(skf)"
   ]
  },
  {
   "cell_type": "markdown",
   "metadata": {},
   "source": [
    "We can view how each fold is split between train and test....."
   ]
  },
  {
   "cell_type": "code",
   "execution_count": 10,
   "metadata": {
    "collapsed": false,
    "jupyter": {
     "outputs_hidden": false
    }
   },
   "outputs": [
    {
     "name": "stdout",
     "output_type": "stream",
     "text": [
      "Fold 0:\n",
      "  Train: index=[ 936  937  938 ... 8121 8122 8123]\n",
      "  Test:  index=[   0    1    2 ... 4126 4128 4130]\n",
      "Fold 1:\n",
      "  Train: index=[   0    1    2 ... 8121 8122 8123]\n",
      "  Test:  index=[ 936  937  938 ... 5008 5009 5011]\n",
      "Fold 2:\n",
      "  Train: index=[   0    1    2 ... 8121 8122 8123]\n",
      "  Test:  index=[1910 1911 1912 ... 6027 6028 6029]\n",
      "Fold 3:\n",
      "  Train: index=[   0    1    2 ... 8121 8122 8123]\n",
      "  Test:  index=[2808 2809 2810 ... 6844 6845 6846]\n",
      "Fold 4:\n",
      "  Train: index=[   0    1    2 ... 6844 6845 6846]\n",
      "  Test:  index=[4276 4283 4291 ... 8121 8122 8123]\n"
     ]
    }
   ],
   "source": [
    "for i, (train_index, test_index) in enumerate(skf.split(x, y)):\n",
    "    print(f\"Fold {i}:\")\n",
    "    print(f\"  Train: index={train_index}\")\n",
    "    print(f\"  Test:  index={test_index}\")"
   ]
  },
  {
   "cell_type": "markdown",
   "metadata": {},
   "source": [
    "Now use the KNN model we have created and the skf train/test split\n",
    "This will fit the data to the KNN model 5 times with respect to skf\n",
    "And we can print those score of each fold."
   ]
  },
  {
   "cell_type": "code",
   "execution_count": 11,
   "metadata": {
    "collapsed": false,
    "jupyter": {
     "outputs_hidden": false
    }
   },
   "outputs": [
    {
     "name": "stdout",
     "output_type": "stream",
     "text": [
      "Fold 0 score: 0.8615384615384616\n",
      "Fold 1 score: 1.0\n",
      "Fold 2 score: 0.9987692307692307\n",
      "Fold 3 score: 1.0\n",
      "Fold 4 score: 0.7684729064039408\n"
     ]
    }
   ],
   "source": [
    "scores5 = cross_val_score(knn_model5, x, y, cv=skf)\n",
    "\n",
    "# We can see the scores created for each of the 5 folds\n",
    "def print_score(scores):\n",
    "    for i in range(len(scores)):\n",
    "        print(f'Fold {i} score: {scores[i]}')\n",
    "\n",
    "print_score(scores5)"
   ]
  },
  {
   "cell_type": "markdown",
   "metadata": {},
   "source": [
    "We can then calculate the mean and the standard deviation of the scores to give us some metrics we can use to check how well the model performed."
   ]
  },
  {
   "cell_type": "code",
   "execution_count": 12,
   "metadata": {
    "collapsed": false,
    "jupyter": {
     "outputs_hidden": false
    }
   },
   "outputs": [
    {
     "name": "stdout",
     "output_type": "stream",
     "text": [
      "0.93 accuracy with a standard deviation of 0.10\n"
     ]
    }
   ],
   "source": [
    "print(\"%0.2f accuracy with a standard deviation of %0.2f\" % (scores5.mean(), scores5.std()))"
   ]
  },
  {
   "cell_type": "markdown",
   "metadata": {},
   "source": [
    "Its not too bad with 0.93 accuracy and std of 0.10 but can we improve this model?  We can try different neighbour values to see how this impacts the score."
   ]
  },
  {
   "cell_type": "code",
   "execution_count": 13,
   "metadata": {
    "collapsed": false,
    "jupyter": {
     "outputs_hidden": false
    }
   },
   "outputs": [
    {
     "name": "stdout",
     "output_type": "stream",
     "text": [
      "Using 3 neighbours:\n",
      "Fold 0 score: 0.8486153846153847\n",
      "Fold 1 score: 1.0\n",
      "Fold 2 score: 0.9987692307692307\n",
      "Fold 3 score: 1.0\n",
      "Fold 4 score: 0.8004926108374384\n",
      "\n",
      "\n",
      "0.93 accuracy with a standard deviation of 0.09\n"
     ]
    }
   ],
   "source": [
    "print('Using 3 neighbours:')\n",
    "knn_model3 = KNeighborsClassifier(n_neighbors=3, weights='distance') # using 'distance' improves accuracy slightly\n",
    "scores3 = cross_val_score(knn_model3, x, y, cv=skf)\n",
    "print_score(scores3)\n",
    "print('\\n')\n",
    "print(\"%0.2f accuracy with a standard deviation of %0.2f\" % (scores3.mean(), scores3.std()))"
   ]
  },
  {
   "cell_type": "code",
   "execution_count": 14,
   "metadata": {
    "collapsed": false,
    "jupyter": {
     "outputs_hidden": false
    }
   },
   "outputs": [
    {
     "name": "stdout",
     "output_type": "stream",
     "text": [
      "Using 2 neighbours:\n",
      "Fold 0 score: 0.856\n",
      "Fold 1 score: 1.0\n",
      "Fold 2 score: 1.0\n",
      "Fold 3 score: 1.0\n",
      "Fold 4 score: 0.9193349753694581\n",
      "\n",
      "\n",
      "0.96 accuracy with a standard deviation of 0.06\n"
     ]
    }
   ],
   "source": [
    "print('Using 2 neighbours:')\n",
    "knn_model2 = KNeighborsClassifier(n_neighbors=2, weights='distance', p=1)  # p1= euclidean, p2= manhattan (using minkowksi metric)\n",
    "scores2 = cross_val_score(knn_model2, x, y, cv=skf)\n",
    "print_score(scores2)\n",
    "print('\\n')\n",
    "print(\"%0.2f accuracy with a standard deviation of %0.2f\" % (scores2.mean(), scores2.std()))"
   ]
  },
  {
   "cell_type": "markdown",
   "metadata": {},
   "source": [
    "So the model appears to improve with less neighbours. I would be inclined to leave it at 2 neighbours with the accuracy\n",
    "increasing to 96% and the standard deviation reducing to 0.06. I did test going down to 1 but there was no change from 2.\n",
    "Also tried changing the distance metric from Euclidean (P=1) and Manhattan (P=2) but this did not make any difference.\n",
    "It may however be preferable to use a value of 3 to prevent any draws in voting.\n",
    "\n",
    "So lets check what the final model parameters looked like:"
   ]
  },
  {
   "cell_type": "code",
   "execution_count": 15,
   "metadata": {
    "collapsed": false,
    "jupyter": {
     "outputs_hidden": false
    }
   },
   "outputs": [
    {
     "data": {
      "text/plain": [
       "{'algorithm': 'auto',\n",
       " 'leaf_size': 30,\n",
       " 'metric': 'minkowski',\n",
       " 'metric_params': None,\n",
       " 'n_jobs': None,\n",
       " 'n_neighbors': 2,\n",
       " 'p': 1,\n",
       " 'weights': 'distance'}"
      ]
     },
     "execution_count": 15,
     "metadata": {},
     "output_type": "execute_result"
    }
   ],
   "source": [
    "knn_model2.get_params()"
   ]
  },
  {
   "cell_type": "markdown",
   "metadata": {},
   "source": [
    "Now because our problem is a non linear binary classification problem the 2nd algorithm i will look to implement will be\n",
    "a decision tree. It also makes sense in my opinion, as the data we have consists of attributes which are categorical\n",
    "descriptors of a property of the mushroom (nom nom).\n",
    "\n",
    "As the decision tree can be visualised it may also help to identify certain characteristics of a mushroom that may make\n",
    "it poisonous or edible\n",
    "\n",
    "Now the data does not need to be one hot encoded for decision tree classification, however SKLEARN currently does not\n",
    "handle categorical data in its decision tree algorithm!!\n",
    "The data is not ordinal though so I can still use the previously one hot encoded data from the previous algorithm.\n",
    "\n",
    "I will however create a simple manual train/test split this time."
   ]
  },
  {
   "cell_type": "code",
   "execution_count": 16,
   "metadata": {
    "collapsed": false,
    "jupyter": {
     "outputs_hidden": false
    }
   },
   "outputs": [
    {
     "name": "stdout",
     "output_type": "stream",
     "text": [
      "x_train dimensions = (5686, 112) and x_test dimensions = (2438, 112)\n",
      "y_train dimensions = (5686,) and y_test dimensions = (2438,)\n"
     ]
    }
   ],
   "source": [
    "x_train, x_test, y_train, y_test = train_test_split(x, y, test_size=0.3, random_state=0)\n",
    "\n",
    "print(f'x_train dimensions = {x_train.shape} and x_test dimensions = {x_test.shape}')\n",
    "print(f'y_train dimensions = {y_train.shape} and y_test dimensions = {y_test.shape}')"
   ]
  },
  {
   "cell_type": "markdown",
   "metadata": {},
   "source": [
    "When creating a decision tree classifier we can set a max depth of the tree and we can tweak that parameters to help reduce the complexity of the tree.\n",
    "I will initially go with a depth of 10 and see how this peforms."
   ]
  },
  {
   "cell_type": "code",
   "execution_count": 17,
   "metadata": {
    "collapsed": false,
    "jupyter": {
     "outputs_hidden": false
    }
   },
   "outputs": [],
   "source": [
    "tree_model = tree.DecisionTreeClassifier(max_depth=10)"
   ]
  },
  {
   "cell_type": "markdown",
   "metadata": {},
   "source": [
    "We can then fit the model and make predictions using the test data and measure how it performs. IE how many did it predict correctly"
   ]
  },
  {
   "cell_type": "code",
   "execution_count": 18,
   "metadata": {
    "collapsed": false,
    "jupyter": {
     "outputs_hidden": false
    }
   },
   "outputs": [
    {
     "name": "stdout",
     "output_type": "stream",
     "text": [
      "1.0\n"
     ]
    }
   ],
   "source": [
    "# fit the model\n",
    "tree_model.fit(x_train, y_train)\n",
    "\n",
    "# create predictions using the test split\n",
    "tree_predict = tree_model.predict(x_test)\n",
    "\n",
    "# Here we can see the accuracy.\n",
    "acc = accuracy_score(y_test, tree_predict)\n",
    "print(acc)"
   ]
  },
  {
   "cell_type": "markdown",
   "metadata": {},
   "source": [
    "Now the model is returning an accuracy of 1 which is pretty good. So lets have a look at the parameters of the tree."
   ]
  },
  {
   "cell_type": "code",
   "execution_count": 19,
   "metadata": {
    "collapsed": false,
    "jupyter": {
     "outputs_hidden": false
    }
   },
   "outputs": [
    {
     "data": {
      "text/plain": [
       "{'ccp_alpha': 0.0,\n",
       " 'class_weight': None,\n",
       " 'criterion': 'gini',\n",
       " 'max_depth': 10,\n",
       " 'max_features': None,\n",
       " 'max_leaf_nodes': None,\n",
       " 'min_impurity_decrease': 0.0,\n",
       " 'min_samples_leaf': 1,\n",
       " 'min_samples_split': 2,\n",
       " 'min_weight_fraction_leaf': 0.0,\n",
       " 'random_state': None,\n",
       " 'splitter': 'best'}"
      ]
     },
     "execution_count": 19,
     "metadata": {},
     "output_type": "execute_result"
    }
   ],
   "source": [
    "tree_model.get_params()"
   ]
  },
  {
   "cell_type": "markdown",
   "metadata": {},
   "source": [
    "And check the actual depth used."
   ]
  },
  {
   "cell_type": "code",
   "execution_count": 20,
   "metadata": {
    "collapsed": false,
    "jupyter": {
     "outputs_hidden": false
    }
   },
   "outputs": [
    {
     "data": {
      "text/plain": [
       "7"
      ]
     },
     "execution_count": 20,
     "metadata": {},
     "output_type": "execute_result"
    }
   ],
   "source": [
    "tree_model.get_depth()"
   ]
  },
  {
   "cell_type": "markdown",
   "metadata": {},
   "source": [
    "Note the tree has a depth of 7 so i am going to manually check the depth to use:\n",
    "We could also change the criterion which is the method of splitting the nodes."
   ]
  },
  {
   "cell_type": "code",
   "execution_count": 21,
   "metadata": {
    "collapsed": false,
    "jupyter": {
     "outputs_hidden": false
    }
   },
   "outputs": [
    {
     "name": "stdout",
     "output_type": "stream",
     "text": [
      "max_depth of 1, returns accuracy of: 0.8798195242001641\n",
      "max_depth of 2, returns accuracy of: 0.9294503691550451\n",
      "max_depth of 3, returns accuracy of: 0.9639048400328137\n",
      "max_depth of 4, returns accuracy of: 0.9856439704675964\n",
      "max_depth of 5, returns accuracy of: 0.9995898277276456\n",
      "max_depth of 6, returns accuracy of: 1.0\n",
      "max_depth of 7, returns accuracy of: 1.0\n",
      "max_depth of 8, returns accuracy of: 1.0\n",
      "max_depth of 9, returns accuracy of: 1.0\n"
     ]
    }
   ],
   "source": [
    "def mytree(max_depth, criterion):\n",
    "    for i in range(1, max_depth):\n",
    "        tree_model = tree.DecisionTreeClassifier(max_depth=i, criterion=criterion)\n",
    "        tree_model.fit(x_train, y_train)\n",
    "        tree_predict = tree_model.predict(x_test)\n",
    "        acc = accuracy_score(y_test, tree_predict)\n",
    "        print(f'max_depth of {i}, returns accuracy of: {acc}')\n",
    "\n",
    "# we can see below how the depth of the tree impacts the accuracy as the depth increases.\n",
    "mytree(10,criterion='entropy') # entropy performed best from [gini, entropy and log loss]\n",
    "# mytree(10,criterion='gini')\n",
    "# mytree(10,criterion='log_loss')"
   ]
  },
  {
   "cell_type": "markdown",
   "metadata": {},
   "source": [
    "Using the above testing i am going to now create a tree model using those parameters"
   ]
  },
  {
   "cell_type": "code",
   "execution_count": 22,
   "metadata": {
    "collapsed": false,
    "jupyter": {
     "outputs_hidden": false
    }
   },
   "outputs": [
    {
     "data": {
      "text/plain": [
       "{'ccp_alpha': 0.0,\n",
       " 'class_weight': None,\n",
       " 'criterion': 'entropy',\n",
       " 'max_depth': 6,\n",
       " 'max_features': None,\n",
       " 'max_leaf_nodes': None,\n",
       " 'min_impurity_decrease': 0.0,\n",
       " 'min_samples_leaf': 1,\n",
       " 'min_samples_split': 2,\n",
       " 'min_weight_fraction_leaf': 0.0,\n",
       " 'random_state': None,\n",
       " 'splitter': 'best'}"
      ]
     },
     "execution_count": 22,
     "metadata": {},
     "output_type": "execute_result"
    }
   ],
   "source": [
    "tree_model = tree.DecisionTreeClassifier(max_depth=6,criterion='entropy')\n",
    "tree_model.fit(x_train, y_train)\n",
    "tree_model.get_params()"
   ]
  },
  {
   "cell_type": "markdown",
   "metadata": {},
   "source": [
    "Lets find out a bit more about the tree thats been created. Check how many leaves where created in the tree and we will also create tree labels to help understand the splitting process at each node"
   ]
  },
  {
   "cell_type": "code",
   "execution_count": 23,
   "metadata": {
    "collapsed": false,
    "jupyter": {
     "outputs_hidden": false
    }
   },
   "outputs": [
    {
     "data": {
      "text/plain": [
       "12"
      ]
     },
     "execution_count": 23,
     "metadata": {},
     "output_type": "execute_result"
    }
   ],
   "source": [
    "# obtain the one hot encoded label names to help aid tree visualisation.\n",
    "tree_labels = one_hot_shrooms.columns.values\n",
    "\n",
    "# we can see that the number of decision points in the tree is 12.\n",
    "tree_model.get_n_leaves()"
   ]
  },
  {
   "cell_type": "markdown",
   "metadata": {},
   "source": [
    "As per below. we can see the features used in each node of the tree with the starting node being  (odor = N) <= 0.5. This first split looking at mushrooms with no odor has quite a high entroypy score and so means there is still a lot of impurity or diverseness in the node at that level but it quicly works done the tree to reduce the impurity score until it reaches zero and it is able to classify the mushroom as edible or poisonous."
   ]
  },
  {
   "cell_type": "code",
   "execution_count": 172,
   "metadata": {
    "collapsed": false,
    "jupyter": {
     "outputs_hidden": false
    }
   },
   "outputs": [
    {
     "data": {
      "text/plain": "[Text(0.5, 0.9285714285714286, 'odor_n <= 0.5\\nentropy = 0.999\\nsamples = 5686\\nvalue = [2936, 2750]'),\n Text(0.23076923076923078, 0.7857142857142857, 'bruises_t <= 0.5\\nentropy = 0.654\\nsamples = 3203\\nvalue = [540, 2663]'),\n Text(0.15384615384615385, 0.6428571428571429, 'entropy = 0.0\\nsamples = 2279\\nvalue = [0, 2279]'),\n Text(0.3076923076923077, 0.6428571428571429, 'habitat_u <= 0.5\\nentropy = 0.979\\nsamples = 924\\nvalue = [540, 384]'),\n Text(0.23076923076923078, 0.5, 'spore-print-color_h <= 0.5\\nentropy = 0.829\\nsamples = 731\\nvalue = [540, 191]'),\n Text(0.15384615384615385, 0.35714285714285715, 'odor_p <= 0.5\\nentropy = 0.605\\nsamples = 634\\nvalue = [540, 94]'),\n Text(0.07692307692307693, 0.21428571428571427, 'entropy = 0.0\\nsamples = 540\\nvalue = [540, 0]'),\n Text(0.23076923076923078, 0.21428571428571427, 'entropy = 0.0\\nsamples = 94\\nvalue = [0, 94]'),\n Text(0.3076923076923077, 0.35714285714285715, 'entropy = 0.0\\nsamples = 97\\nvalue = [0, 97]'),\n Text(0.38461538461538464, 0.5, 'entropy = 0.0\\nsamples = 193\\nvalue = [0, 193]'),\n Text(0.7692307692307693, 0.7857142857142857, 'spore-print-color_r <= 0.5\\nentropy = 0.219\\nsamples = 2483\\nvalue = [2396, 87]'),\n Text(0.6923076923076923, 0.6428571428571429, 'stalk-surface-below-ring_y <= 0.5\\nentropy = 0.111\\nsamples = 2432\\nvalue = [2396, 36]'),\n Text(0.5384615384615384, 0.5, 'cap-surface_g <= 0.5\\nentropy = 0.025\\nsamples = 2391\\nvalue = [2385, 6]'),\n Text(0.46153846153846156, 0.35714285714285715, 'gill-size_n <= 0.5\\nentropy = 0.014\\nsamples = 2388\\nvalue = [2385, 3]'),\n Text(0.38461538461538464, 0.21428571428571427, 'entropy = 0.0\\nsamples = 2246\\nvalue = [2246, 0]'),\n Text(0.5384615384615384, 0.21428571428571427, 'bruises_f <= 0.5\\nentropy = 0.148\\nsamples = 142\\nvalue = [139, 3]'),\n Text(0.46153846153846156, 0.07142857142857142, 'entropy = 0.0\\nsamples = 3\\nvalue = [0, 3]'),\n Text(0.6153846153846154, 0.07142857142857142, 'entropy = 0.0\\nsamples = 139\\nvalue = [139, 0]'),\n Text(0.6153846153846154, 0.35714285714285715, 'entropy = 0.0\\nsamples = 3\\nvalue = [0, 3]'),\n Text(0.8461538461538461, 0.5, 'ring-type_p <= 0.5\\nentropy = 0.839\\nsamples = 41\\nvalue = [11, 30]'),\n Text(0.7692307692307693, 0.35714285714285715, 'entropy = 0.0\\nsamples = 30\\nvalue = [0, 30]'),\n Text(0.9230769230769231, 0.35714285714285715, 'entropy = 0.0\\nsamples = 11\\nvalue = [11, 0]'),\n Text(0.8461538461538461, 0.6428571428571429, 'entropy = 0.0\\nsamples = 51\\nvalue = [0, 51]')]"
     },
     "execution_count": 172,
     "metadata": {},
     "output_type": "execute_result"
    },
    {
     "data": {
      "text/plain": "<Figure size 1200x1200 with 1 Axes>",
      "image/png": "[encoded data removed]"
     },
     "metadata": {},
     "output_type": "display_data"
    }
   ],
   "source": [
    "fig, axes = plt.subplots(nrows = 1,ncols = 1,figsize = (4,4), dpi=300)\n",
    "tree.plot_tree(tree_model,feature_names=tree_labels, filled=True)"
   ]
  },
  {
   "cell_type": "markdown",
   "source": [
    "Looking at feature importance below. We can see that there is quite a lot of attributes that have not been used at all."
   ],
   "metadata": {
    "collapsed": false
   }
  },
  {
   "cell_type": "code",
   "execution_count": 200,
   "outputs": [
    {
     "data": {
      "text/plain": "array([0.        , 0.        , 0.        , 0.        , 0.        ,\n       0.        , 0.        , 0.00479453, 0.        , 0.        ,\n       0.        , 0.        , 0.        , 0.        , 0.        ,\n       0.        , 0.        , 0.        , 0.        , 0.        ,\n       0.00369198, 0.20968858, 0.        , 0.        , 0.        ,\n       0.        , 0.        , 0.5353066 , 0.0675645 , 0.        ,\n       0.        , 0.        , 0.        , 0.        , 0.        ,\n       0.        , 0.00215764, 0.        , 0.        , 0.        ,\n       0.        , 0.        , 0.        , 0.        , 0.        ,\n       0.        , 0.        , 0.        , 0.        , 0.        ,\n       0.        , 0.        , 0.        , 0.        , 0.        ,\n       0.        , 0.        , 0.        , 0.03088626, 0.        ,\n       0.        , 0.        , 0.        , 0.        , 0.        ,\n       0.        , 0.        , 0.        , 0.        , 0.        ,\n       0.        , 0.        , 0.        , 0.        , 0.        ,\n       0.        , 0.        , 0.        , 0.        , 0.        ,\n       0.        , 0.        , 0.        , 0.        , 0.        ,\n       0.        , 0.        , 0.        , 0.        , 0.00605447,\n       0.        , 0.03905414, 0.        , 0.        , 0.        ,\n       0.04814992, 0.        , 0.        , 0.        , 0.        ,\n       0.        , 0.        , 0.        , 0.        , 0.        ,\n       0.        , 0.        , 0.        , 0.        , 0.        ,\n       0.05265137, 0.        ])"
     },
     "execution_count": 200,
     "metadata": {},
     "output_type": "execute_result"
    }
   ],
   "source": [
    "tree_model.feature_importances_"
   ],
   "metadata": {
    "collapsed": false
   }
  },
  {
   "cell_type": "markdown",
   "source": [
    "As the visual representation is quite small we can extract a text representation so w"
   ],
   "metadata": {
    "collapsed": false
   }
  },
  {
   "cell_type": "code",
   "execution_count": 214,
   "outputs": [
    {
     "name": "stdout",
     "output_type": "stream",
     "text": [
      "Feature cap-surface_g has in importance score of 0.004794534534378047\n",
      "Feature bruises_f has in importance score of 0.0036919805272288817\n",
      "Feature bruises_t has in importance score of 0.20968858441959387\n",
      "Feature odor_n has in importance score of 0.5353065959604323\n",
      "Feature odor_p has in importance score of 0.06756450277632611\n",
      "Feature gill-size_n has in importance score of 0.0021576356575033367\n",
      "Feature stalk-surface-below-ring_y has in importance score of 0.030886264489805016\n",
      "Feature ring-type_p has in importance score of 0.006054474890064467\n",
      "Feature spore-print-color_h has in importance score of 0.03905413503800331\n",
      "Feature spore-print-color_r has in importance score of 0.04814992439743123\n",
      "Feature habitat_u has in importance score of 0.05265136730923351\n"
     ]
    }
   ],
   "source": [
    "t = tree_model.feature_importances_\n",
    "mytree_features = []\n",
    "mylabels = []\n",
    "for i in range(len(t)):\n",
    "    if t[i]>0:\n",
    "        mytree_features.append(t[i])\n",
    "        mylabels.append(tree_labels[i])\n",
    "\n",
    "for i in range(len(mylabels)):\n",
    "    print(f'Feature {mylabels[i]} has in importance score of {mytree_features[i]}')"
   ],
   "metadata": {
    "collapsed": false
   }
  },
  {
   "cell_type": "code",
   "execution_count": 211,
   "outputs": [
    {
     "data": {
      "text/plain": "'cap-surface_g'"
     },
     "execution_count": 211,
     "metadata": {},
     "output_type": "execute_result"
    }
   ],
   "source": [
    "std = np.std([tree_model.feature_importances_ for tree in forest.estimators_], axis=0)\n",
    "indices = np.argsort(importances)[::-1]\n",
    "\n",
    "# Print the feature ranking\n",
    "print(\"Feature ranking:\")\n"
   ],
   "metadata": {
    "collapsed": false
   }
  },
  {
   "cell_type": "code",
   "execution_count": 191,
   "metadata": {
    "collapsed": false,
    "jupyter": {
     "outputs_hidden": false
    }
   },
   "outputs": [
    {
     "name": "stdout",
     "output_type": "stream",
     "text": [
      "|--- feature_27 <= 0.50\n",
      "|   |--- feature_21 <= 0.50\n",
      "|   |   |--- class: p\n",
      "|   |--- feature_21 >  0.50\n",
      "|   |   |--- feature_110 <= 0.50\n",
      "|   |   |   |--- feature_91 <= 0.50\n",
      "|   |   |   |   |--- feature_28 <= 0.50\n",
      "|   |   |   |   |   |--- class: e\n",
      "|   |   |   |   |--- feature_28 >  0.50\n",
      "|   |   |   |   |   |--- class: p\n",
      "|   |   |   |--- feature_91 >  0.50\n",
      "|   |   |   |   |--- class: p\n",
      "|   |   |--- feature_110 >  0.50\n",
      "|   |   |   |--- class: p\n",
      "|--- feature_27 >  0.50\n",
      "|   |--- feature_95 <= 0.50\n",
      "|   |   |--- feature_58 <= 0.50\n",
      "|   |   |   |--- feature_7 <= 0.50\n",
      "|   |   |   |   |--- feature_36 <= 0.50\n",
      "|   |   |   |   |   |--- class: e\n",
      "|   |   |   |   |--- feature_36 >  0.50\n",
      "|   |   |   |   |   |--- feature_20 <= 0.50\n",
      "|   |   |   |   |   |   |--- class: p\n",
      "|   |   |   |   |   |--- feature_20 >  0.50\n",
      "|   |   |   |   |   |   |--- class: e\n",
      "|   |   |   |--- feature_7 >  0.50\n",
      "|   |   |   |   |--- class: p\n",
      "|   |   |--- feature_58 >  0.50\n",
      "|   |   |   |--- feature_89 <= 0.50\n",
      "|   |   |   |   |--- class: p\n",
      "|   |   |   |--- feature_89 >  0.50\n",
      "|   |   |   |   |--- class: e\n",
      "|   |--- feature_95 >  0.50\n",
      "|   |   |--- class: p\n",
      "\n"
     ]
    }
   ],
   "source": [
    "\n",
    "tree_text = tree.export_text(tree_model)\n",
    "print(tree_text)"
   ]
  },
  {
   "cell_type": "markdown",
   "source": [
    "As we can see above its using a small amount of features so we can likely prune the tree to reduce the features needed. Considering the dataset had 22 attribtes to begin with which was then one hot encoded to 112, then it would be a good idea to reduce the features to that that actually provide value."
   ],
   "metadata": {
    "collapsed": false
   }
  },
  {
   "cell_type": "code",
   "execution_count": 194,
   "outputs": [],
   "source": [
    "# lets\n",
    "new_model = SelectFromModel(tree_model, prefit=True)"
   ],
   "metadata": {
    "collapsed": false
   }
  },
  {
   "cell_type": "code",
   "execution_count": 197,
   "outputs": [
    {
     "name": "stdout",
     "output_type": "stream",
     "text": [
      "(8124, 112)\n"
     ]
    }
   ],
   "source": [
    "print(x.shape)"
   ],
   "metadata": {
    "collapsed": false
   }
  },
  {
   "cell_type": "code",
   "execution_count": 199,
   "outputs": [
    {
     "data": {
      "text/plain": "(8124, 7)"
     },
     "execution_count": 199,
     "metadata": {},
     "output_type": "execute_result"
    }
   ],
   "source": [
    "x_new = new_model.transform(x)\n",
    "x_new.shape\n"
   ],
   "metadata": {
    "collapsed": false
   }
  },
  {
   "cell_type": "code",
   "execution_count": 27,
   "metadata": {
    "collapsed": false,
    "jupyter": {
     "outputs_hidden": false
    }
   },
   "outputs": [],
   "source": [
    "import matplotlib_inline\n",
    "import graphviz"
   ]
  },
  {
   "cell_type": "code",
   "execution_count": 30,
   "metadata": {
    "collapsed": false,
    "jupyter": {
     "outputs_hidden": false
    }
   },
   "outputs": [],
   "source": [
    "# import matplotlib_inline\n",
    "# import graphviz\n",
    "dot_data = tree.export_graphviz(tree_model, out_file=None)\n",
    "graph = graphviz.Source(dot_data)\n",
    "# graph.render(\"test\")"
   ]
  },
  {
   "cell_type": "code",
   "execution_count": 31,
   "metadata": {
    "collapsed": false,
    "jupyter": {
     "outputs_hidden": false
    }
   },
   "outputs": [
    {
     "data": {
      "text/plain": [
       "'Source.gv.pdf'"
      ]
     },
     "execution_count": 31,
     "metadata": {},
     "output_type": "execute_result"
    }
   ],
   "source": [
    "graph.render()"
   ]
  },
  {
   "cell_type": "markdown",
   "metadata": {},
   "source": [
    "We need to be mindful of overfitting though due to too many attributes. The dataset has 21 attributes so we could look at pruning the tree.\n",
    "\n",
    "the key thing here is that not all the features are important and we can look to remove unused or non important features"
   ]
  },
  {
   "cell_type": "markdown",
   "metadata": {},
   "source": []
  }
 ],
 "metadata": {
  "kernelspec": {
   "display_name": "Python 3 (ipykernel)",
   "language": "python",
   "name": "python3"
  },
  "language_info": {
   "codemirror_mode": {
    "name": "ipython",
    "version": 3
   },
   "file_extension": ".py",
   "mimetype": "text/x-python",
   "name": "python",
   "nbconvert_exporter": "python",
   "pygments_lexer": "ipython3",
   "version": "3.9.16"
  }
 },
 "nbformat": 4,
 "nbformat_minor": 4
}
